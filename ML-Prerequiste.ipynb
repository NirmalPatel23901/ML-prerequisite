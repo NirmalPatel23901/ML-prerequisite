{
  "metadata": {
    "kernelspec": {
      "name": "python",
      "display_name": "Python (Pyodide)",
      "language": "python"
    },
    "language_info": {
      "name": ""
    }
  },
  "nbformat_minor": 4,
  "nbformat": 4,
  "cells": [
    {
      "cell_type": "markdown",
      "source": "1. How many multiplications and additions do you need to perform a matrix multiplication between a (n, k) and (k, m) matrix? Explain.",
      "metadata": {}
    },
    {
      "cell_type": "markdown",
      "source": "To perform matrix multiplication between an (n,k) matrix A and a (k,m) matrix B, the resulting matrix C will have dimensions (n,m). Here's a breakdown of the operations needed:\n\n    Multiplications:\n        Each element cij in the resulting matrix CC is computed by summing up k products: ail⋅blj for l from 1 to k.\n        Hence, for each element cij, you need k multiplications.\n        Since there are n×m elements in matrix C, the total number of multiplications is n×m×kn×m×k.\n\n    Additions:\n        To compute each element cij, you need to add k products together, which involves k−1 additions.\n        Therefore, for all n×mn×m elements in matrix C, the total number of additions is n×m×(k−1).\n\nIn summary, the matrix multiplication of an (n,k) matrix with a (k,m) matrix requires n×m×kn×m×k multiplications and n×m×(k−1) additions.",
      "metadata": {}
    },
    {
      "cell_type": "code",
      "source": "",
      "metadata": {
        "trusted": true
      },
      "outputs": [],
      "execution_count": null
    },
    {
      "cell_type": "markdown",
      "source": "2. Write Python code to multiply the above two matrices. Solve using list of lists and then use numpy. Compare the timing of both solutions. Which one is faster? Why?",
      "metadata": {}
    },
    {
      "cell_type": "code",
      "source": "#using list of lists\nimport time\n\ndef matrix_multiply_list_of_lists(A, B):\n    n = len(A)\n    k = len(A[0])\n    m = len(B[0])\n\n    # Initialize result matrix C with zeros\n    C = [[0] * m for _ in range(n)]\n\n    for i in range(n):\n        for j in range(m):\n            C[i][j] = sum(A[i][l] * B[l][j] for l in range(k))\n\n    return C\n\n# Example matrices\nA = [\n    [1, 2],\n    [3, 4]\n]\n\nB = [\n    [5, 6],\n    [7, 8]\n]\n\n# Measure time for list of lists multiplication\nstart_time = time.time()\nC_list_of_lists = matrix_multiply_list_of_lists(A, B)\nend_time = time.time()\nprint(\"Matrix C (list of lists):\", C_list_of_lists)\nprint(\"Time taken (list of lists):\", end_time - start_time)\n",
      "metadata": {
        "trusted": true
      },
      "outputs": [
        {
          "name": "stdout",
          "text": "Matrix C (list of lists): [[19, 22], [43, 50]]\nTime taken (list of lists): 0.0\n",
          "output_type": "stream"
        }
      ],
      "execution_count": 5
    },
    {
      "cell_type": "code",
      "source": "# using numpy \n\nimport numpy as np\n\n# Example matrices\nA_np = np.array([\n    [1, 2],\n    [3, 4]\n])\n\nB_np = np.array([\n    [5, 6],\n    [7, 8]\n])\n\n# Measure time for NumPy multiplication\nstart_time = time.time()\nC_np = np.matmul(A_np, B_np)\nend_time = time.time()\nprint(\"Matrix C (NumPy):\", C_np.tolist())\nprint(\"Time taken (NumPy):\", end_time - start_time)\n",
      "metadata": {
        "trusted": true
      },
      "outputs": [
        {
          "name": "stdout",
          "text": "Matrix C (NumPy): [[19, 22], [43, 50]]\nTime taken (NumPy): 0.0\n",
          "output_type": "stream"
        }
      ],
      "execution_count": 4
    },
    {
      "cell_type": "markdown",
      "source": "Reason: NumPy uses highly optimized C and Fortran libraries for matrix operations, which are specifically designed for performance. It also leverages efficient memory management and vectorized operations, avoiding the overhead of Python loops and list operations.",
      "metadata": {}
    },
    {
      "cell_type": "code",
      "source": "",
      "metadata": {
        "trusted": true
      },
      "outputs": [],
      "execution_count": null
    },
    {
      "cell_type": "raw",
      "source": "4. What is the gradient of the following function with respect to x and y?\nx^2y+y^3 sin(x)\n",
      "metadata": {}
    },
    {
      "cell_type": "raw",
      "source": "partial derivatives and the gradient of the function f(x,y)=x^2y+y^3sin⁡(x)\n\n    Partial Derivative with Respect to x:\n    ∂f/∂x=2xy+y^3cos⁡(x)\n    \n\n    Partial Derivative with Respect to y:\n    ∂f/∂y=x^2+3y^2sin⁡(x)\n\n\n    Gradient of the Function:\n    ∇f(x,y)=(2xy+y^3cos⁡(x),x^2+3y^2sin⁡(x))\n",
      "metadata": {}
    },
    {
      "cell_type": "code",
      "source": "",
      "metadata": {
        "trusted": true
      },
      "outputs": [],
      "execution_count": null
    },
    {
      "cell_type": "code",
      "source": "",
      "metadata": {
        "trusted": true
      },
      "outputs": [],
      "execution_count": null
    }
  ]
}